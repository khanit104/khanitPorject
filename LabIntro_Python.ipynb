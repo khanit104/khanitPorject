{
 "cells": [
  {
   "cell_type": "markdown",
   "id": "fff0a3a5",
   "metadata": {},
   "source": [
    "# <span style=\"color:#3399ff\">พื้นฐานการเขียนภาษา Python</span>\n",
    "**<mark>LAB วิชา KDD ดร.วรรณสิริ ธุระชน</mark>\n",
    "## <span style=\"color:orange\">เริ่มต้นเขียนโปรแกรมแรก</span>\n",
    "<small>โปรแกรมแรกเป็นการแสดงผลออกทางหน้าจอโดยใช้ฟังก์ชั่น **print** </small>"
   ]
  },
  {
   "cell_type": "code",
   "execution_count": 1,
   "id": "0bbb184c",
   "metadata": {},
   "outputs": [
    {
     "name": "stdout",
     "output_type": "stream",
     "text": [
      "Hello, young data scientists!!!\n"
     ]
    }
   ],
   "source": [
    "print(\"Hello, young data scientists!!!\")"
   ]
  },
  {
   "cell_type": "code",
   "execution_count": null,
   "id": "1f58880b",
   "metadata": {},
   "outputs": [],
   "source": [
    "print(2565)"
   ]
  },
  {
   "cell_type": "code",
   "execution_count": null,
   "id": "9fa5e4ac",
   "metadata": {},
   "outputs": [],
   "source": [
    "subject=\"KDD\"\n",
    "subject"
   ]
  },
  {
   "cell_type": "code",
   "execution_count": null,
   "id": "7d8bfe12",
   "metadata": {},
   "outputs": [],
   "source": [
    "type(subject)"
   ]
  },
  {
   "cell_type": "code",
   "execution_count": null,
   "id": "a2346250",
   "metadata": {},
   "outputs": [],
   "source": [
    "print(\"Hello \" ,subject)"
   ]
  },
  {
   "attachments": {
    "image.png": {
     "image/png": "[encoded data removed]"
    }
   },
   "cell_type": "markdown",
   "id": "edd4d3a4",
   "metadata": {},
   "source": [
    "# <span style=\"color:orange\">กฎการตั้งชื่อตัวแปร</span>\n",
    "\n",
    "### <mark>8 กฎการตั้งชื่อตัวแปร</mark>\n",
    "* ประกอบด้วยตัวอักษร A-Z หรือ a-z หรือ ตัวเลข 0-9 และเครื่องหมาย ( _ )\n",
    "* หลีกเลี่ยง Case sensitive เช่น myname กับ MyName จะมีความหมายแตกต่างกัน\n",
    "* ห้ามเว้นวรรค เช่น my name\n",
    "* ไม่ขึ้นต้นด้วยตัวเลข\n",
    "* ไม่มีสัญลักษณ์ ยกเว้น ( _ )\n",
    "* ไม่ควรนำ Keywords มาตั้งชื่อ เช่น as, break, def, del, in, rise, pass, import เป็นต้น\n",
    "* จะตั้งชื่อยาวเท่าไหรก็ได้\n",
    "* ที่สำคัญต้องตั้งชื่อตัวแปรให้สื่อความหมายกับค่าที่เก็บ\n",
    "\n",
    "## Keywords\n",
    "![image.png](attachment:image.png)"
   ]
  },
  {
   "cell_type": "code",
   "execution_count": null,
   "id": "36f65df2",
   "metadata": {},
   "outputs": [],
   "source": [
    "A=10\n",
    "myDog=\"CoCo\"\n",
    "emp_name=\"Wannasiri\"\n",
    "myDog"
   ]
  },
  {
   "cell_type": "code",
   "execution_count": null,
   "id": "f2c20050",
   "metadata": {},
   "outputs": [],
   "source": [
    "subject=\"Knowledge Discovery from a large Database\"\n",
    "subject"
   ]
  },
  {
   "cell_type": "code",
   "execution_count": null,
   "id": "f68d6861",
   "metadata": {
    "scrolled": false
   },
   "outputs": [],
   "source": [
    "myStar*=\"Polaris\""
   ]
  },
  {
   "cell_type": "code",
   "execution_count": null,
   "id": "581fa1d9",
   "metadata": {},
   "outputs": [],
   "source": [
    "lambda=\"a\""
   ]
  },
  {
   "cell_type": "markdown",
   "id": "38dd85e3",
   "metadata": {},
   "source": [
    "# <span style=\"color:orange\">การกำหนดตัวแปร</span>"
   ]
  },
  {
   "cell_type": "markdown",
   "id": "784f63c1",
   "metadata": {},
   "source": [
    "##### กำหนดค่าให้กับตัวแปรพร้อมกันหลายตัว"
   ]
  },
  {
   "cell_type": "code",
   "execution_count": null,
   "id": "896b14cb",
   "metadata": {},
   "outputs": [],
   "source": [
    "a=b=c=10"
   ]
  },
  {
   "cell_type": "code",
   "execution_count": null,
   "id": "8183858f",
   "metadata": {},
   "outputs": [],
   "source": [
    "a"
   ]
  },
  {
   "cell_type": "code",
   "execution_count": null,
   "id": "85486254",
   "metadata": {},
   "outputs": [],
   "source": [
    "b"
   ]
  },
  {
   "cell_type": "code",
   "execution_count": null,
   "id": "88d205b2",
   "metadata": {},
   "outputs": [],
   "source": [
    "c"
   ]
  },
  {
   "cell_type": "code",
   "execution_count": null,
   "id": "6954fe74",
   "metadata": {},
   "outputs": [],
   "source": [
    "a,b,c=10, 20,\"Data Science\""
   ]
  },
  {
   "cell_type": "markdown",
   "id": "67ced144",
   "metadata": {},
   "source": [
    "# <span style=\"color:orange\">การเขียน Comments</span>\n",
    "##### การ Comment ใช้เครื่องหมาย **#** เพื่อแสดงคำสั่งใน Code แต่จะไม่ถูกรัน"
   ]
  },
  {
   "cell_type": "code",
   "execution_count": null,
   "id": "c241f4cc",
   "metadata": {},
   "outputs": [],
   "source": [
    "print(\"****ข้อความนี้จะแสดงผลเมื่อรันโปรแกรม\")\n",
    "#print(\"ข้อความนี้จะไม่แสดงผลเนื่องจากมีเครื่องหมาย # \")"
   ]
  },
  {
   "cell_type": "code",
   "execution_count": null,
   "id": "84c5d22b",
   "metadata": {},
   "outputs": [],
   "source": [
    "print(\"Data Science\") #ในกรณีที่ต้องการอธิบายโค้ด"
   ]
  },
  {
   "cell_type": "markdown",
   "id": "3bf59ed4",
   "metadata": {},
   "source": [
    "# <span style=\"color:orange\">การรับข้อมูลด้วยคำสั่ง input()</span>"
   ]
  },
  {
   "cell_type": "code",
   "execution_count": null,
   "id": "5ece375f",
   "metadata": {},
   "outputs": [],
   "source": [
    "input(\"What is your puppy's name? : \")"
   ]
  },
  {
   "cell_type": "markdown",
   "id": "807fd99c",
   "metadata": {},
   "source": [
    "# <span style=\"color:orange\">ทดลองเขียนโปรแกรม Excercise: 1</span>\n",
    "##### เขียนโปรแกรมรับค่าด้วย input() โดยรับค่า ชื่อ-เงินเดือน-โบนัส แล้วแสดงผล (print) ชื่อ เงินเดือน โบนัส และรายได้สุทธิ (เงินเดือน+โบนัส)"
   ]
  },
  {
   "cell_type": "code",
   "execution_count": null,
   "id": "66056086",
   "metadata": {},
   "outputs": [],
   "source": [
    "#เขียนโค้ดตรงนี้\n",
    "name=input(\"ชื่อ:\")\n",
    "salary=input(\"เงินเดือน:\")\n",
    "bonus=input(\"โบนัส:\")\n",
    "income=int(salary)+int(bonus)\n",
    "print(\"ชื่อ: \",name,\" เงินเดือน: \",salary, \"โบนัส: \",bonus,\"รายได้: \",income)"
   ]
  },
  {
   "cell_type": "markdown",
   "id": "775c2cb6",
   "metadata": {},
   "source": [
    "# Data Types\n",
    "### ชนิดของข้อมูล\n",
    "* [Numeric](#Numeric)\n",
    "    * integer จำนวนเต็ม\n",
    "    * float ทศนิยม \n",
    "    * complex number จำนวนเชิงซ้อน\n",
    "* [String](#String)\n",
    "* [Boolean](#Boolean)\n",
    "* [List](#List)\n",
    "* [Dictionary](#Dictionary)\n",
    "* [Set](#Set)\n",
    "* [Tuple](#Tuple)"
   ]
  },
  {
   "cell_type": "markdown",
   "id": "e1707552",
   "metadata": {},
   "source": [
    "#### <mark>Numeric</mark>"
   ]
  },
  {
   "cell_type": "code",
   "execution_count": null,
   "id": "9ab05212",
   "metadata": {},
   "outputs": [],
   "source": [
    "type(5)"
   ]
  },
  {
   "cell_type": "code",
   "execution_count": null,
   "id": "8a7193e5",
   "metadata": {},
   "outputs": [],
   "source": [
    "type(5.0)"
   ]
  },
  {
   "cell_type": "code",
   "execution_count": null,
   "id": "a5c1b2f1",
   "metadata": {},
   "outputs": [],
   "source": [
    "type(1+2j)"
   ]
  },
  {
   "cell_type": "markdown",
   "id": "341e5686",
   "metadata": {},
   "source": [
    "#### <mark>String</mark>"
   ]
  },
  {
   "cell_type": "code",
   "execution_count": null,
   "id": "73e6dbbe",
   "metadata": {},
   "outputs": [],
   "source": [
    "name=\"Wannasiri\""
   ]
  },
  {
   "cell_type": "code",
   "execution_count": null,
   "id": "9b70cd75",
   "metadata": {},
   "outputs": [],
   "source": [
    "type(name)"
   ]
  },
  {
   "cell_type": "markdown",
   "id": "3f6f3ce4",
   "metadata": {},
   "source": [
    "**นับจำนวนใน String ด้วย len()"
   ]
  },
  {
   "cell_type": "code",
   "execution_count": null,
   "id": "f5865d22",
   "metadata": {},
   "outputs": [],
   "source": [
    "len(name)"
   ]
  },
  {
   "cell_type": "code",
   "execution_count": null,
   "id": "f2e1973e",
   "metadata": {},
   "outputs": [],
   "source": [
    "type(\"Data Science\")"
   ]
  },
  {
   "cell_type": "markdown",
   "id": "c690f828",
   "metadata": {},
   "source": [
    "#### <mark>Boolean</mark>"
   ]
  },
  {
   "cell_type": "code",
   "execution_count": null,
   "id": "798e5a25",
   "metadata": {},
   "outputs": [],
   "source": [
    "t=True\n",
    "f=False"
   ]
  },
  {
   "cell_type": "code",
   "execution_count": null,
   "id": "2e3d325c",
   "metadata": {},
   "outputs": [],
   "source": [
    "type(t)"
   ]
  },
  {
   "cell_type": "code",
   "execution_count": null,
   "id": "451e2040",
   "metadata": {},
   "outputs": [],
   "source": [
    "not(t)"
   ]
  },
  {
   "cell_type": "code",
   "execution_count": null,
   "id": "5913ba5c",
   "metadata": {},
   "outputs": [],
   "source": [
    "t or t"
   ]
  },
  {
   "cell_type": "code",
   "execution_count": null,
   "id": "009a0a5f",
   "metadata": {},
   "outputs": [],
   "source": [
    "t or f"
   ]
  },
  {
   "cell_type": "code",
   "execution_count": null,
   "id": "045e97cb",
   "metadata": {},
   "outputs": [],
   "source": [
    "t and t"
   ]
  },
  {
   "cell_type": "code",
   "execution_count": null,
   "id": "2a20082a",
   "metadata": {},
   "outputs": [],
   "source": [
    "t and f"
   ]
  },
  {
   "cell_type": "markdown",
   "id": "867bb849",
   "metadata": {},
   "source": [
    "#### List สามารถเก็บค่าได้หลายค่า ประเภทข้อมูลเดียวกันหรือต่างกันก็ได้ (อาจารย์จะอธิบาย List ใน Lab ถัดไป)"
   ]
  },
  {
   "cell_type": "code",
   "execution_count": null,
   "id": "d296ce14",
   "metadata": {},
   "outputs": [],
   "source": [
    "my_pet=[\"Chayen\",\"Udon\",\"Cocoa\",\"Kuri\",\"SeiSei\",\"Markgo\",\"KaowGum\"]\n",
    "my_pet"
   ]
  },
  {
   "cell_type": "code",
   "execution_count": null,
   "id": "ebcd65ae",
   "metadata": {},
   "outputs": [],
   "source": [
    "profile=[\"Wannasiri\",\"wannasiri@udru.ac.th\",65,162]\n",
    "profile"
   ]
  },
  {
   "cell_type": "markdown",
   "id": "dec838c2",
   "metadata": {},
   "source": [
    "#### Dictionary สามารถเก็บค่าได้หลายค่าแต่ละค่าประกอบด้วย key กับ value (อาจารย์จะอธิบาย Dictionary ใน Lab ถัดไป)"
   ]
  },
  {
   "cell_type": "code",
   "execution_count": null,
   "id": "2c29b873",
   "metadata": {},
   "outputs": [],
   "source": [
    "profile={\"name\":\"Wannasiri\",\n",
    "            \"email\":\"wannasiri@udru.ac.th\",\n",
    "            \"weight\":65,\n",
    "            \"height\":162\n",
    "            }"
   ]
  },
  {
   "cell_type": "code",
   "execution_count": null,
   "id": "dfc67e44",
   "metadata": {},
   "outputs": [],
   "source": [
    "profile"
   ]
  },
  {
   "cell_type": "code",
   "execution_count": null,
   "id": "1b4d0a1a",
   "metadata": {},
   "outputs": [],
   "source": [
    "profile[\"email\"]"
   ]
  },
  {
   "cell_type": "markdown",
   "id": "6de0a90d",
   "metadata": {},
   "source": [
    "#### Set เป็นข้อมูลที่เก็บค่าโดยไม่มีตำแหน่ง index กำกับข้อมูล (อาจารย์จะอธิบาย set ใน Lab ถัดไป)"
   ]
  },
  {
   "cell_type": "code",
   "execution_count": null,
   "id": "1b257c6c",
   "metadata": {},
   "outputs": [],
   "source": [
    "mypet={\"Chayen\",\"Udon\",\"Cocoa\",\"Kuri\",\"SeiSei\",\"Markgo\",\"KaowGum\",\"Cocoa\"}"
   ]
  },
  {
   "cell_type": "code",
   "execution_count": null,
   "id": "09f31d23",
   "metadata": {
    "scrolled": true
   },
   "outputs": [],
   "source": [
    "type(mypet)"
   ]
  },
  {
   "cell_type": "code",
   "execution_count": null,
   "id": "cbcf13ca",
   "metadata": {},
   "outputs": [],
   "source": [
    "print(mypet)"
   ]
  },
  {
   "cell_type": "markdown",
   "id": "2c9863a2",
   "metadata": {},
   "source": [
    "#### Tuple เป็นประเภทข้อมูลที่เก็บค่าต่างกันได้ ไม่สามารถเปลี่ยนแปลงค่าใน tuple ได้ (อาจารย์จะอธิบาย Tuple ใน Lab ถัดไป)"
   ]
  },
  {
   "cell_type": "code",
   "execution_count": null,
   "id": "7927b65a",
   "metadata": {},
   "outputs": [],
   "source": [
    "mypet=(\"Chayen\",\"Udon\",\"Cocoa\",\"Kuri\",\"SeiSei\",\"Markgo\",\"KaowGum\",\"Cocoa\")"
   ]
  },
  {
   "cell_type": "code",
   "execution_count": null,
   "id": "f1ce679a",
   "metadata": {},
   "outputs": [],
   "source": [
    "type(mypet)"
   ]
  },
  {
   "cell_type": "code",
   "execution_count": null,
   "id": "f54d7d2e",
   "metadata": {},
   "outputs": [],
   "source": [
    "mypet[2]"
   ]
  },
  {
   "cell_type": "code",
   "execution_count": null,
   "id": "48a250f0",
   "metadata": {},
   "outputs": [],
   "source": [
    "mypet"
   ]
  },
  {
   "cell_type": "markdown",
   "id": "28be2e04",
   "metadata": {},
   "source": [
    "# การคำนวณทางคณิตศาสตร์"
   ]
  },
  {
   "cell_type": "markdown",
   "id": "36c989db",
   "metadata": {},
   "source": [
    "##### การคำนวณทางคณิตศาสตร์ด้วยการบวก(+) การลบ(-) การคูณ(* ) การหาร(/) การหารเลือกเอาเศษ (%) การหารปัดเศษทิ้ง (//) และยกกำลัง (** )"
   ]
  },
  {
   "cell_type": "code",
   "execution_count": null,
   "id": "0fb26e8b",
   "metadata": {},
   "outputs": [],
   "source": [
    "5+(6/2)"
   ]
  },
  {
   "cell_type": "code",
   "execution_count": null,
   "id": "54a27f49",
   "metadata": {},
   "outputs": [],
   "source": [
    "5**2"
   ]
  },
  {
   "cell_type": "code",
   "execution_count": null,
   "id": "27c9e386",
   "metadata": {},
   "outputs": [],
   "source": [
    "7/3"
   ]
  },
  {
   "cell_type": "code",
   "execution_count": null,
   "id": "3cfd7bd7",
   "metadata": {},
   "outputs": [],
   "source": [
    "7%3"
   ]
  },
  {
   "cell_type": "code",
   "execution_count": null,
   "id": "0f488577",
   "metadata": {
    "scrolled": true
   },
   "outputs": [],
   "source": [
    "7//3"
   ]
  },
  {
   "cell_type": "markdown",
   "id": "6017c205",
   "metadata": {},
   "source": [
    "ถ้านำ string มา + กันจะหมายถึงการนำ string มาต่อกัน (concatenation) ไม่ได้หมายถึงการ + เพิ่มค่า"
   ]
  },
  {
   "cell_type": "code",
   "execution_count": 1,
   "id": "745283fb",
   "metadata": {},
   "outputs": [
    {
     "data": {
      "text/plain": [
       "'558'"
      ]
     },
     "execution_count": 1,
     "metadata": {},
     "output_type": "execute_result"
    }
   ],
   "source": [
    "'5'+'5'+'8'"
   ]
  },
  {
   "cell_type": "markdown",
   "id": "f8249b24",
   "metadata": {},
   "source": [
    "ไม่สามารถนำตัวแปร string มา + กับ int ได้โดยตรง"
   ]
  },
  {
   "cell_type": "code",
   "execution_count": null,
   "id": "8339ca3b",
   "metadata": {
    "scrolled": true
   },
   "outputs": [],
   "source": [
    "5+'5'"
   ]
  },
  {
   "cell_type": "code",
   "execution_count": 2,
   "id": "9737535e",
   "metadata": {},
   "outputs": [
    {
     "data": {
      "text/plain": [
       "10"
      ]
     },
     "execution_count": 2,
     "metadata": {},
     "output_type": "execute_result"
    }
   ],
   "source": [
    "int('5')+5"
   ]
  },
  {
   "cell_type": "markdown",
   "id": "34b01522",
   "metadata": {},
   "source": [
    "## <span style=\"color: orange\">ทดลองเขียนโปรแกรม Exercise: 2</span>\n",
    "##### เขียนโปรแกรมคำนวณหาพื้นที่วงกลม โดยกำหนดความยาวของรัศมี = 10"
   ]
  },
  {
   "cell_type": "code",
   "execution_count": 3,
   "id": "34c585cd",
   "metadata": {},
   "outputs": [
    {
     "data": {
      "text/plain": [
       "314.0"
      ]
     },
     "execution_count": 3,
     "metadata": {},
     "output_type": "execute_result"
    }
   ],
   "source": [
    "# เขียนโค้ดตรงนี้ (ค่า pi=3.14)\n",
    "# สูตรคำนวรพื้นที่วงกลม pi*(r**2)\n",
    "pi=3.14\n",
    "r=10\n",
    "circle=pi*(r**2)\n",
    "circle"
   ]
  },
  {
   "cell_type": "markdown",
   "id": "83d890e0",
   "metadata": {},
   "source": [
    "## <span style=\"color: orange\">ทดลองเขียนโปรแกรม Exercise: 3</apan>\n",
    "##### Statement ด้านล่างมีอะไรผิด? ลองแก้ให้ถูกต้อง"
   ]
  },
  {
   "cell_type": "code",
   "execution_count": 4,
   "id": "ad9fab18",
   "metadata": {},
   "outputs": [
    {
     "ename": "TypeError",
     "evalue": "can only concatenate str (not \"int\") to str",
     "output_type": "error",
     "traceback": [
      "\u001b[1;31m---------------------------------------------------------------------------\u001b[0m",
      "\u001b[1;31mTypeError\u001b[0m                                 Traceback (most recent call last)",
      "\u001b[1;32m~\\AppData\\Local\\Temp\\ipykernel_14204\\2022963180.py\u001b[0m in \u001b[0;36m<module>\u001b[1;34m\u001b[0m\n\u001b[0;32m      1\u001b[0m \u001b[0msavings\u001b[0m \u001b[1;33m=\u001b[0m \u001b[1;36m100\u001b[0m\u001b[1;33m\u001b[0m\u001b[1;33m\u001b[0m\u001b[0m\n\u001b[1;32m----> 2\u001b[1;33m \u001b[0mprint\u001b[0m\u001b[1;33m(\u001b[0m\u001b[1;34m\"I have $\"\u001b[0m \u001b[1;33m+\u001b[0m \u001b[0msavings\u001b[0m \u001b[1;33m+\u001b[0m \u001b[1;34m\" in my pocket\"\u001b[0m\u001b[1;33m)\u001b[0m\u001b[1;33m\u001b[0m\u001b[1;33m\u001b[0m\u001b[0m\n\u001b[0m",
      "\u001b[1;31mTypeError\u001b[0m: can only concatenate str (not \"int\") to str"
     ]
    }
   ],
   "source": [
    "savings = 100\n",
    "print(\"I have $\" + savings + \" in my pocket\")"
   ]
  },
  {
   "cell_type": "markdown",
   "id": "f7e52167",
   "metadata": {},
   "source": [
    "##### มีวิธีแก้หลายแบบ วิธีหนึ่งคือการใช้ type conversion กับตัวแปร \"savings\""
   ]
  },
  {
   "cell_type": "code",
   "execution_count": 5,
   "id": "149cc1ff",
   "metadata": {},
   "outputs": [
    {
     "name": "stdout",
     "output_type": "stream",
     "text": [
      "I have $100 in my pocket\n"
     ]
    }
   ],
   "source": [
    "savings = 100\n",
    "print(\"I have $\" + str(savings) + \" in my pocket\")"
   ]
  },
  {
   "cell_type": "markdown",
   "id": "1f8558a7",
   "metadata": {},
   "source": [
    "## <span style=\"color:orange\">Making Decisions</span>"
   ]
  },
  {
   "cell_type": "code",
   "execution_count": 6,
   "id": "e7be11b8",
   "metadata": {},
   "outputs": [],
   "source": [
    "number = 2\n",
    "\n",
    "if number == 1:\n",
    "    print('Yes')"
   ]
  },
  {
   "cell_type": "code",
   "execution_count": 7,
   "id": "f247c0a1",
   "metadata": {},
   "outputs": [
    {
     "name": "stdout",
     "output_type": "stream",
     "text": [
      "Yes\n",
      "No No\n"
     ]
    }
   ],
   "source": [
    "number = 1\n",
    "\n",
    "if number == 1:\n",
    "    print('Yes')\n",
    "else:\n",
    "    print('No')\n",
    "\n",
    "print('No No')"
   ]
  },
  {
   "cell_type": "code",
   "execution_count": 8,
   "id": "46801851",
   "metadata": {},
   "outputs": [
    {
     "name": "stdout",
     "output_type": "stream",
     "text": [
      "Too many cats!\n"
     ]
    }
   ],
   "source": [
    "people = 20\n",
    "cats = 30\n",
    "dogs = 15\n",
    "\n",
    "if people < cats:\n",
    "    print(\"Too many cats!\")\n",
    "\n",
    "elif people > cats:\n",
    "    print(\"Not many cats!\")\n",
    "\n",
    "elif people < dogs:\n",
    "    print(\"Too many dogs!\")\n",
    "\n",
    "elif people > dogs:\n",
    "    print(\"Not many dogs!\")"
   ]
  },
  {
   "cell_type": "markdown",
   "id": "ab388093",
   "metadata": {},
   "source": [
    "## <span style=\"color: orange\">ทดลองเขียนโปรแกรม Exercise: 4</apan>\n",
    "เขียนโปรแกรมตรวจสอบว่าถ้าตัวเลขเป็นเลขคู่ ให้แสดงประโยคว่า \"This is an even number.\" ถ้าไม่ใช่ (ตัวเลขเป็นเลขคี่) ให้แสดงประโยคว่า \"This is an odd number.\""
   ]
  },
  {
   "cell_type": "code",
   "execution_count": 11,
   "id": "6edc1960",
   "metadata": {},
   "outputs": [
    {
     "name": "stdout",
     "output_type": "stream",
     "text": [
      "ป้อนตัวเลข6\n",
      "This is and even number.\n"
     ]
    }
   ],
   "source": [
    "num=int(input(\"ป้อนตัวเลข\"))\n",
    "if (int(num)%2)==0:\n",
    "    print(\"This is and even number.\")\n",
    "else:\n",
    "    print(\"This is an odd number.\")"
   ]
  },
  {
   "cell_type": "code",
   "execution_count": null,
   "id": "754b95af",
   "metadata": {},
   "outputs": [],
   "source": []
  }
 ],
 "metadata": {
  "kernelspec": {
   "display_name": "Python 3 (ipykernel)",
   "language": "python",
   "name": "python3"
  },
  "language_info": {
   "codemirror_mode": {
    "name": "ipython",
    "version": 3
   },
   "file_extension": ".py",
   "mimetype": "text/x-python",
   "name": "python",
   "nbconvert_exporter": "python",
   "pygments_lexer": "ipython3",
   "version": "3.9.13"
  }
 },
 "nbformat": 4,
 "nbformat_minor": 5
}
